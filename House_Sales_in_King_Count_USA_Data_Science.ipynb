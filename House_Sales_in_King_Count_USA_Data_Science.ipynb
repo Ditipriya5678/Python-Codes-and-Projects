{
  "nbformat": 4,
  "nbformat_minor": 0,
  "metadata": {
    "kernelspec": {
      "display_name": "Python 3",
      "language": "python",
      "name": "python3"
    },
    "language_info": {
      "codemirror_mode": {
        "name": "ipython",
        "version": 3
      },
      "file_extension": ".py",
      "mimetype": "text/x-python",
      "name": "python",
      "nbconvert_exporter": "python",
      "pygments_lexer": "ipython3",
      "version": "3.8.0"
    },
    "colab": {
      "name": "House Sales_in_King_Count_USA_Data_Science.ipynb",
      "provenance": []
    }
  },
  "cells": [
    {
      "cell_type": "markdown",
      "metadata": {
        "id": "hO25qwdd_LJt"
      },

    },
    {
      "cell_type": "markdown",
      "metadata": {
        "id": "X6x4QHL0_LJz"
      },
      "source": [
        "# House Sales in King County, USA"
      ]
    },
    {
      "cell_type": "markdown",
      "metadata": {
        "id": "tv9OFb3__LJ0"
      },
      "source": [
        "This dataset contains house sale prices for King County, which includes Seattle. It includes homes sold between May 2014 and May 2015."
      ]
    },
    {
      "cell_type": "markdown",
      "metadata": {
        "id": "24H2_xuC_LJ0"
      },
      "source": [
        "<b>id</b> : A notation for a house\n",
        "\n",
        "<b> date</b>: Date house was sold\n",
        "\n",
        "\n",
        "<b>price</b>: Price is prediction target\n",
        "\n",
        "\n",
        "<b>bedrooms</b>: Number of bedrooms\n",
        "\n",
        "\n",
        "<b>bathrooms</b>: Number of bathrooms\n",
        "\n",
        "<b>sqft_living</b>: Square footage of the home\n",
        "\n",
        "<b>sqft_lot</b>: Square footage of the lot\n",
        "\n",
        "\n",
        "<b>floors</b> :Total floors (levels) in house\n",
        "\n",
        "\n",
        "<b>waterfront</b> :House which has a view to a waterfront\n",
        "\n",
        "\n",
        "<b>view</b>: Has been viewed\n",
        "\n",
        "\n",
        "<b>condition</b> :How good the condition is overall\n",
        "\n",
        "<b>grade</b>: overall grade given to the housing unit, based on King County grading system\n",
        "\n",
        "\n",
        "<b>sqft_above</b> : Square footage of house apart from basement\n",
        "\n",
        "\n",
        "<b>sqft_basement</b>: Square footage of the basement\n",
        "\n",
        "<b>yr_built</b> : Built Year\n",
        "\n",
        "\n",
        "<b>yr_renovated</b> : Year when house was renovated\n",
        "\n",
        "<b>zipcode</b>: Zip code\n",
        "\n",
        "\n",
        "<b>lat</b>: Latitude coordinate\n",
        "\n",
        "<b>long</b>: Longitude coordinate\n",
        "\n",
        "<b>sqft_living15</b> : Living room area in 2015(implies-- some renovations) This might or might not have affected the lotsize area\n",
        "\n",
        "\n",
        "<b>sqft_lot15</b> : LotSize area in 2015(implies-- some renovations)"
      ]
    },
    {
      "cell_type": "markdown",
      "metadata": {
        "id": "V5pQ81Tg_LJ1"
      },
      "source": [
        "You will require the following libraries: "
      ]
    },
    {
      "cell_type": "code",
      "metadata": {
        "id": "-L4kJRKg_LJ1"
      },
      "source": [
        "import pandas as pd\n",
        "import matplotlib.pyplot as plt\n",
        "import numpy as np\n",
        "import seaborn as sns\n",
        "from sklearn.pipeline import Pipeline\n",
        "from sklearn.preprocessing import StandardScaler,PolynomialFeatures\n",
        "from sklearn.linear_model import LinearRegression\n",
        "%matplotlib inline"
      ],
      "execution_count": 1,
      "outputs": []
    },
    {
      "cell_type": "markdown",
      "metadata": {
        "id": "evL7k-OF_LJ2"
      },
      "source": [
        "# Module 1: Importing Data Sets "
      ]
    },
    {
      "cell_type": "markdown",
      "metadata": {
        "id": "6BxGzaYQ_LJ2"
      },
      "source": [
        " Load the csv:  "
      ]
    },
    {
      "cell_type": "code",
      "metadata": {
        "jupyter": {
          "outputs_hidden": false
        },
        "id": "y9mVFV-T_LJ2"
      },
      "source": [
        "file_name='https://s3-api.us-geo.objectstorage.softlayer.net/cf-courses-data/CognitiveClass/DA0101EN/coursera/project/kc_house_data_NaN.csv'\n",
        "df=pd.read_csv(file_name)"
      ],
      "execution_count": 2,
      "outputs": []
    },
    {
      "cell_type": "markdown",
      "metadata": {
        "id": "-Rs8zOfu_LJ2"
      },
      "source": [
        "\n",
        "We use the method <code>head</code> to display the first 5 columns of the dataframe."
      ]
    },
    {
      "cell_type": "code",
      "metadata": {
        "colab": {
          "base_uri": "https://localhost:8080/",
          "height": 232
        },
        "id": "jN5lAnrD_LJ3",
        "outputId": "97648cff-43ee-4e3b-9ab9-3b8c551bebe3"
      },
      "source": [
        "df.head()"
      ],
      "execution_count": 3,
      "outputs": [
        {
          "output_type": "execute_result",
          "data": {
            "text/html": [
              "<div>\n",
              "<style scoped>\n",
              "    .dataframe tbody tr th:only-of-type {\n",
              "        vertical-align: middle;\n",
              "    }\n",
              "\n",
              "    .dataframe tbody tr th {\n",
              "        vertical-align: top;\n",
              "    }\n",
              "\n",
              "    .dataframe thead th {\n",
              "        text-align: right;\n",
              "    }\n",
              "</style>\n",
              "<table border=\"1\" class=\"dataframe\">\n",
              "  <thead>\n",
              "    <tr style=\"text-align: right;\">\n",
              "      <th></th>\n",
              "      <th>Unnamed: 0</th>\n",
              "      <th>id</th>\n",
              "      <th>date</th>\n",
              "      <th>price</th>\n",
              "      <th>bedrooms</th>\n",
              "      <th>bathrooms</th>\n",
              "      <th>sqft_living</th>\n",
              "      <th>sqft_lot</th>\n",
              "      <th>floors</th>\n",
              "      <th>waterfront</th>\n",
              "      <th>view</th>\n",
              "      <th>condition</th>\n",
              "      <th>grade</th>\n",
              "      <th>sqft_above</th>\n",
              "      <th>sqft_basement</th>\n",
              "      <th>yr_built</th>\n",
              "      <th>yr_renovated</th>\n",
              "      <th>zipcode</th>\n",
              "      <th>lat</th>\n",
              "      <th>long</th>\n",
              "      <th>sqft_living15</th>\n",
              "      <th>sqft_lot15</th>\n",
              "    </tr>\n",
              "  </thead>\n",
              "  <tbody>\n",
              "    <tr>\n",
              "      <th>0</th>\n",
              "      <td>0</td>\n",
              "      <td>7129300520</td>\n",
              "      <td>20141013T000000</td>\n",
              "      <td>221900.0</td>\n",
              "      <td>3.0</td>\n",
              "      <td>1.00</td>\n",
              "      <td>1180</td>\n",
              "      <td>5650</td>\n",
              "      <td>1.0</td>\n",
              "      <td>0</td>\n",
              "      <td>0</td>\n",
              "      <td>3</td>\n",
              "      <td>7</td>\n",
              "      <td>1180</td>\n",
              "      <td>0</td>\n",
              "      <td>1955</td>\n",
              "      <td>0</td>\n",
              "      <td>98178</td>\n",
              "      <td>47.5112</td>\n",
              "      <td>-122.257</td>\n",
              "      <td>1340</td>\n",
              "      <td>5650</td>\n",
              "    </tr>\n",
              "    <tr>\n",
              "      <th>1</th>\n",
              "      <td>1</td>\n",
              "      <td>6414100192</td>\n",
              "      <td>20141209T000000</td>\n",
              "      <td>538000.0</td>\n",
              "      <td>3.0</td>\n",
              "      <td>2.25</td>\n",
              "      <td>2570</td>\n",
              "      <td>7242</td>\n",
              "      <td>2.0</td>\n",
              "      <td>0</td>\n",
              "      <td>0</td>\n",
              "      <td>3</td>\n",
              "      <td>7</td>\n",
              "      <td>2170</td>\n",
              "      <td>400</td>\n",
              "      <td>1951</td>\n",
              "      <td>1991</td>\n",
              "      <td>98125</td>\n",
              "      <td>47.7210</td>\n",
              "      <td>-122.319</td>\n",
              "      <td>1690</td>\n",
              "      <td>7639</td>\n",
              "    </tr>\n",
              "    <tr>\n",
              "      <th>2</th>\n",
              "      <td>2</td>\n",
              "      <td>5631500400</td>\n",
              "      <td>20150225T000000</td>\n",
              "      <td>180000.0</td>\n",
              "      <td>2.0</td>\n",
              "      <td>1.00</td>\n",
              "      <td>770</td>\n",
              "      <td>10000</td>\n",
              "      <td>1.0</td>\n",
              "      <td>0</td>\n",
              "      <td>0</td>\n",
              "      <td>3</td>\n",
              "      <td>6</td>\n",
              "      <td>770</td>\n",
              "      <td>0</td>\n",
              "      <td>1933</td>\n",
              "      <td>0</td>\n",
              "      <td>98028</td>\n",
              "      <td>47.7379</td>\n",
              "      <td>-122.233</td>\n",
              "      <td>2720</td>\n",
              "      <td>8062</td>\n",
              "    </tr>\n",
              "    <tr>\n",
              "      <th>3</th>\n",
              "      <td>3</td>\n",
              "      <td>2487200875</td>\n",
              "      <td>20141209T000000</td>\n",
              "      <td>604000.0</td>\n",
              "      <td>4.0</td>\n",
              "      <td>3.00</td>\n",
              "      <td>1960</td>\n",
              "      <td>5000</td>\n",
              "      <td>1.0</td>\n",
              "      <td>0</td>\n",
              "      <td>0</td>\n",
              "      <td>5</td>\n",
              "      <td>7</td>\n",
              "      <td>1050</td>\n",
              "      <td>910</td>\n",
              "      <td>1965</td>\n",
              "      <td>0</td>\n",
              "      <td>98136</td>\n",
              "      <td>47.5208</td>\n",
              "      <td>-122.393</td>\n",
              "      <td>1360</td>\n",
              "      <td>5000</td>\n",
              "    </tr>\n",
              "    <tr>\n",
              "      <th>4</th>\n",
              "      <td>4</td>\n",
              "      <td>1954400510</td>\n",
              "      <td>20150218T000000</td>\n",
              "      <td>510000.0</td>\n",
              "      <td>3.0</td>\n",
              "      <td>2.00</td>\n",
              "      <td>1680</td>\n",
              "      <td>8080</td>\n",
              "      <td>1.0</td>\n",
              "      <td>0</td>\n",
              "      <td>0</td>\n",
              "      <td>3</td>\n",
              "      <td>8</td>\n",
              "      <td>1680</td>\n",
              "      <td>0</td>\n",
              "      <td>1987</td>\n",
              "      <td>0</td>\n",
              "      <td>98074</td>\n",
              "      <td>47.6168</td>\n",
              "      <td>-122.045</td>\n",
              "      <td>1800</td>\n",
              "      <td>7503</td>\n",
              "    </tr>\n",
              "  </tbody>\n",
              "</table>\n",
              "</div>"
            ],
            "text/plain": [
              "   Unnamed: 0          id             date  ...     long  sqft_living15  sqft_lot15\n",
              "0           0  7129300520  20141013T000000  ... -122.257           1340        5650\n",
              "1           1  6414100192  20141209T000000  ... -122.319           1690        7639\n",
              "2           2  5631500400  20150225T000000  ... -122.233           2720        8062\n",
              "3           3  2487200875  20141209T000000  ... -122.393           1360        5000\n",
              "4           4  1954400510  20150218T000000  ... -122.045           1800        7503\n",
              "\n",
              "[5 rows x 22 columns]"
            ]
          },
          "metadata": {
            "tags": []
          },
          "execution_count": 3
        }
      ]
    },
    {
      "cell_type": "markdown",
      "metadata": {
        "id": "x9WhXedo_LJ3"
      },
      "source": [
        "### Question 1 \n",
        "Display the data types of each column using the attribute dtype, then take a screenshot and submit it, include your code in the image. "
      ]
    },
    {
      "cell_type": "code",
      "metadata": {
        "jupyter": {
          "outputs_hidden": false
        },
        "colab": {
          "base_uri": "https://localhost:8080/"
        },
        "id": "atZ6NmLQ_LJ3",
        "outputId": "b82f5f30-d51a-4600-b77a-1672ea049811"
      },
      "source": [
        "df.dtypes"
      ],
      "execution_count": 4,
      "outputs": [
        {
          "output_type": "execute_result",
          "data": {
            "text/plain": [
              "Unnamed: 0         int64\n",
              "id                 int64\n",
              "date              object\n",
              "price            float64\n",
              "bedrooms         float64\n",
              "bathrooms        float64\n",
              "sqft_living        int64\n",
              "sqft_lot           int64\n",
              "floors           float64\n",
              "waterfront         int64\n",
              "view               int64\n",
              "condition          int64\n",
              "grade              int64\n",
              "sqft_above         int64\n",
              "sqft_basement      int64\n",
              "yr_built           int64\n",
              "yr_renovated       int64\n",
              "zipcode            int64\n",
              "lat              float64\n",
              "long             float64\n",
              "sqft_living15      int64\n",
              "sqft_lot15         int64\n",
              "dtype: object"
            ]
          },
          "metadata": {
            "tags": []
          },
          "execution_count": 4
        }
      ]
    },
    {
      "cell_type": "markdown",
      "metadata": {
        "id": "mxLEX_tw_LJ4"
      },
      "source": [
        "We use the method describe to obtain a statistical summary of the dataframe."
      ]
    },
    {
      "cell_type": "code",
      "metadata": {
        "jupyter": {
          "outputs_hidden": false
        },
        "colab": {
          "base_uri": "https://localhost:8080/",
          "height": 304
        },
        "id": "_Hu0t9IJ_LJ4",
        "outputId": "36f15958-809e-4099-8173-efaa89b1bf11"
      },
      "source": [
        "df.describe()"
      ],
      "execution_count": 5,
      "outputs": [
        {
          "output_type": "execute_result",
          "data": {
            "text/html": [
              "<div>\n",
              "<style scoped>\n",
              "    .dataframe tbody tr th:only-of-type {\n",
              "        vertical-align: middle;\n",
              "    }\n",
              "\n",
              "    .dataframe tbody tr th {\n",
              "        vertical-align: top;\n",
              "    }\n",
              "\n",
              "    .dataframe thead th {\n",
              "        text-align: right;\n",
              "    }\n",
              "</style>\n",
              "<table border=\"1\" class=\"dataframe\">\n",
              "  <thead>\n",
              "    <tr style=\"text-align: right;\">\n",
              "      <th></th>\n",
              "      <th>Unnamed: 0</th>\n",
              "      <th>id</th>\n",
              "      <th>price</th>\n",
              "      <th>bedrooms</th>\n",
              "      <th>bathrooms</th>\n",
              "      <th>sqft_living</th>\n",
              "      <th>sqft_lot</th>\n",
              "      <th>floors</th>\n",
              "      <th>waterfront</th>\n",
              "      <th>view</th>\n",
              "      <th>condition</th>\n",
              "      <th>grade</th>\n",
              "      <th>sqft_above</th>\n",
              "      <th>sqft_basement</th>\n",
              "      <th>yr_built</th>\n",
              "      <th>yr_renovated</th>\n",
              "      <th>zipcode</th>\n",
              "      <th>lat</th>\n",
              "      <th>long</th>\n",
              "      <th>sqft_living15</th>\n",
              "      <th>sqft_lot15</th>\n",
              "    </tr>\n",
              "  </thead>\n",
              "  <tbody>\n",
              "    <tr>\n",
              "      <th>count</th>\n",
              "      <td>21613.00000</td>\n",
              "      <td>2.161300e+04</td>\n",
              "      <td>2.161300e+04</td>\n",
              "      <td>21600.000000</td>\n",
              "      <td>21603.000000</td>\n",
              "      <td>21613.000000</td>\n",
              "      <td>2.161300e+04</td>\n",
              "      <td>21613.000000</td>\n",
              "      <td>21613.000000</td>\n",
              "      <td>21613.000000</td>\n",
              "      <td>21613.000000</td>\n",
              "      <td>21613.000000</td>\n",
              "      <td>21613.000000</td>\n",
              "      <td>21613.000000</td>\n",
              "      <td>21613.000000</td>\n",
              "      <td>21613.000000</td>\n",
              "      <td>21613.000000</td>\n",
              "      <td>21613.000000</td>\n",
              "      <td>21613.000000</td>\n",
              "      <td>21613.000000</td>\n",
              "      <td>21613.000000</td>\n",
              "    </tr>\n",
              "    <tr>\n",
              "      <th>mean</th>\n",
              "      <td>10806.00000</td>\n",
              "      <td>4.580302e+09</td>\n",
              "      <td>5.400881e+05</td>\n",
              "      <td>3.372870</td>\n",
              "      <td>2.115736</td>\n",
              "      <td>2079.899736</td>\n",
              "      <td>1.510697e+04</td>\n",
              "      <td>1.494309</td>\n",
              "      <td>0.007542</td>\n",
              "      <td>0.234303</td>\n",
              "      <td>3.409430</td>\n",
              "      <td>7.656873</td>\n",
              "      <td>1788.390691</td>\n",
              "      <td>291.509045</td>\n",
              "      <td>1971.005136</td>\n",
              "      <td>84.402258</td>\n",
              "      <td>98077.939805</td>\n",
              "      <td>47.560053</td>\n",
              "      <td>-122.213896</td>\n",
              "      <td>1986.552492</td>\n",
              "      <td>12768.455652</td>\n",
              "    </tr>\n",
              "    <tr>\n",
              "      <th>std</th>\n",
              "      <td>6239.28002</td>\n",
              "      <td>2.876566e+09</td>\n",
              "      <td>3.671272e+05</td>\n",
              "      <td>0.926657</td>\n",
              "      <td>0.768996</td>\n",
              "      <td>918.440897</td>\n",
              "      <td>4.142051e+04</td>\n",
              "      <td>0.539989</td>\n",
              "      <td>0.086517</td>\n",
              "      <td>0.766318</td>\n",
              "      <td>0.650743</td>\n",
              "      <td>1.175459</td>\n",
              "      <td>828.090978</td>\n",
              "      <td>442.575043</td>\n",
              "      <td>29.373411</td>\n",
              "      <td>401.679240</td>\n",
              "      <td>53.505026</td>\n",
              "      <td>0.138564</td>\n",
              "      <td>0.140828</td>\n",
              "      <td>685.391304</td>\n",
              "      <td>27304.179631</td>\n",
              "    </tr>\n",
              "    <tr>\n",
              "      <th>min</th>\n",
              "      <td>0.00000</td>\n",
              "      <td>1.000102e+06</td>\n",
              "      <td>7.500000e+04</td>\n",
              "      <td>1.000000</td>\n",
              "      <td>0.500000</td>\n",
              "      <td>290.000000</td>\n",
              "      <td>5.200000e+02</td>\n",
              "      <td>1.000000</td>\n",
              "      <td>0.000000</td>\n",
              "      <td>0.000000</td>\n",
              "      <td>1.000000</td>\n",
              "      <td>1.000000</td>\n",
              "      <td>290.000000</td>\n",
              "      <td>0.000000</td>\n",
              "      <td>1900.000000</td>\n",
              "      <td>0.000000</td>\n",
              "      <td>98001.000000</td>\n",
              "      <td>47.155900</td>\n",
              "      <td>-122.519000</td>\n",
              "      <td>399.000000</td>\n",
              "      <td>651.000000</td>\n",
              "    </tr>\n",
              "    <tr>\n",
              "      <th>25%</th>\n",
              "      <td>5403.00000</td>\n",
              "      <td>2.123049e+09</td>\n",
              "      <td>3.219500e+05</td>\n",
              "      <td>3.000000</td>\n",
              "      <td>1.750000</td>\n",
              "      <td>1427.000000</td>\n",
              "      <td>5.040000e+03</td>\n",
              "      <td>1.000000</td>\n",
              "      <td>0.000000</td>\n",
              "      <td>0.000000</td>\n",
              "      <td>3.000000</td>\n",
              "      <td>7.000000</td>\n",
              "      <td>1190.000000</td>\n",
              "      <td>0.000000</td>\n",
              "      <td>1951.000000</td>\n",
              "      <td>0.000000</td>\n",
              "      <td>98033.000000</td>\n",
              "      <td>47.471000</td>\n",
              "      <td>-122.328000</td>\n",
              "      <td>1490.000000</td>\n",
              "      <td>5100.000000</td>\n",
              "    </tr>\n",
              "    <tr>\n",
              "      <th>50%</th>\n",
              "      <td>10806.00000</td>\n",
              "      <td>3.904930e+09</td>\n",
              "      <td>4.500000e+05</td>\n",
              "      <td>3.000000</td>\n",
              "      <td>2.250000</td>\n",
              "      <td>1910.000000</td>\n",
              "      <td>7.618000e+03</td>\n",
              "      <td>1.500000</td>\n",
              "      <td>0.000000</td>\n",
              "      <td>0.000000</td>\n",
              "      <td>3.000000</td>\n",
              "      <td>7.000000</td>\n",
              "      <td>1560.000000</td>\n",
              "      <td>0.000000</td>\n",
              "      <td>1975.000000</td>\n",
              "      <td>0.000000</td>\n",
              "      <td>98065.000000</td>\n",
              "      <td>47.571800</td>\n",
              "      <td>-122.230000</td>\n",
              "      <td>1840.000000</td>\n",
              "      <td>7620.000000</td>\n",
              "    </tr>\n",
              "    <tr>\n",
              "      <th>75%</th>\n",
              "      <td>16209.00000</td>\n",
              "      <td>7.308900e+09</td>\n",
              "      <td>6.450000e+05</td>\n",
              "      <td>4.000000</td>\n",
              "      <td>2.500000</td>\n",
              "      <td>2550.000000</td>\n",
              "      <td>1.068800e+04</td>\n",
              "      <td>2.000000</td>\n",
              "      <td>0.000000</td>\n",
              "      <td>0.000000</td>\n",
              "      <td>4.000000</td>\n",
              "      <td>8.000000</td>\n",
              "      <td>2210.000000</td>\n",
              "      <td>560.000000</td>\n",
              "      <td>1997.000000</td>\n",
              "      <td>0.000000</td>\n",
              "      <td>98118.000000</td>\n",
              "      <td>47.678000</td>\n",
              "      <td>-122.125000</td>\n",
              "      <td>2360.000000</td>\n",
              "      <td>10083.000000</td>\n",
              "    </tr>\n",
              "    <tr>\n",
              "      <th>max</th>\n",
              "      <td>21612.00000</td>\n",
              "      <td>9.900000e+09</td>\n",
              "      <td>7.700000e+06</td>\n",
              "      <td>33.000000</td>\n",
              "      <td>8.000000</td>\n",
              "      <td>13540.000000</td>\n",
              "      <td>1.651359e+06</td>\n",
              "      <td>3.500000</td>\n",
              "      <td>1.000000</td>\n",
              "      <td>4.000000</td>\n",
              "      <td>5.000000</td>\n",
              "      <td>13.000000</td>\n",
              "      <td>9410.000000</td>\n",
              "      <td>4820.000000</td>\n",
              "      <td>2015.000000</td>\n",
              "      <td>2015.000000</td>\n",
              "      <td>98199.000000</td>\n",
              "      <td>47.777600</td>\n",
              "      <td>-121.315000</td>\n",
              "      <td>6210.000000</td>\n",
              "      <td>871200.000000</td>\n",
              "    </tr>\n",
              "  </tbody>\n",
              "</table>\n",
              "</div>"
            ],
            "text/plain": [
              "        Unnamed: 0            id  ...  sqft_living15     sqft_lot15\n",
              "count  21613.00000  2.161300e+04  ...   21613.000000   21613.000000\n",
              "mean   10806.00000  4.580302e+09  ...    1986.552492   12768.455652\n",
              "std     6239.28002  2.876566e+09  ...     685.391304   27304.179631\n",
              "min        0.00000  1.000102e+06  ...     399.000000     651.000000\n",
              "25%     5403.00000  2.123049e+09  ...    1490.000000    5100.000000\n",
              "50%    10806.00000  3.904930e+09  ...    1840.000000    7620.000000\n",
              "75%    16209.00000  7.308900e+09  ...    2360.000000   10083.000000\n",
              "max    21612.00000  9.900000e+09  ...    6210.000000  871200.000000\n",
              "\n",
              "[8 rows x 21 columns]"
            ]
          },
          "metadata": {
            "tags": []
          },
          "execution_count": 5
        }
      ]
    },
    {
      "cell_type": "markdown",
      "metadata": {
        "id": "89SPWss5_LJ4"
      },
      "source": [
        "# Module 2: Data Wrangling"
      ]
    },
    {
      "cell_type": "markdown",
      "metadata": {
        "id": "Qc6vVsRb_LJ4"
      },
      "source": [
        "### Question 2 \n",
        "Drop the columns <code>\"id\"</code>  and <code>\"Unnamed: 0\"</code> from axis 1 using the method <code>drop()</code>, then use the method <code>describe()</code> to obtain a statistical summary of the data. Take a screenshot and submit it, make sure the <code>inplace</code> parameter is set to <code>True</code>"
      ]
    },
    {
      "cell_type": "code",
      "metadata": {
        "jupyter": {
          "outputs_hidden": false
        },
        "colab": {
          "base_uri": "https://localhost:8080/",
          "height": 304
        },
        "id": "2td5Tl_U_LJ5",
        "outputId": "62c32121-6542-45af-9cd6-8880f2344902"
      },
      "source": [
        "df=df.drop('id', axis=1)\n",
        "df=df.drop('Unnamed: 0', axis=1)\n",
        "df.describe()"
      ],
      "execution_count": 6,
      "outputs": [
        {
          "output_type": "execute_result",
          "data": {
            "text/html": [
              "<div>\n",
              "<style scoped>\n",
              "    .dataframe tbody tr th:only-of-type {\n",
              "        vertical-align: middle;\n",
              "    }\n",
              "\n",
              "    .dataframe tbody tr th {\n",
              "        vertical-align: top;\n",
              "    }\n",
              "\n",
              "    .dataframe thead th {\n",
              "        text-align: right;\n",
              "    }\n",
              "</style>\n",
              "<table border=\"1\" class=\"dataframe\">\n",
              "  <thead>\n",
              "    <tr style=\"text-align: right;\">\n",
              "      <th></th>\n",
              "      <th>price</th>\n",
              "      <th>bedrooms</th>\n",
              "      <th>bathrooms</th>\n",
              "      <th>sqft_living</th>\n",
              "      <th>sqft_lot</th>\n",
              "      <th>floors</th>\n",
              "      <th>waterfront</th>\n",
              "      <th>view</th>\n",
              "      <th>condition</th>\n",
              "      <th>grade</th>\n",
              "      <th>sqft_above</th>\n",
              "      <th>sqft_basement</th>\n",
              "      <th>yr_built</th>\n",
              "      <th>yr_renovated</th>\n",
              "      <th>zipcode</th>\n",
              "      <th>lat</th>\n",
              "      <th>long</th>\n",
              "      <th>sqft_living15</th>\n",
              "      <th>sqft_lot15</th>\n",
              "    </tr>\n",
              "  </thead>\n",
              "  <tbody>\n",
              "    <tr>\n",
              "      <th>count</th>\n",
              "      <td>2.161300e+04</td>\n",
              "      <td>21600.000000</td>\n",
              "      <td>21603.000000</td>\n",
              "      <td>21613.000000</td>\n",
              "      <td>2.161300e+04</td>\n",
              "      <td>21613.000000</td>\n",
              "      <td>21613.000000</td>\n",
              "      <td>21613.000000</td>\n",
              "      <td>21613.000000</td>\n",
              "      <td>21613.000000</td>\n",
              "      <td>21613.000000</td>\n",
              "      <td>21613.000000</td>\n",
              "      <td>21613.000000</td>\n",
              "      <td>21613.000000</td>\n",
              "      <td>21613.000000</td>\n",
              "      <td>21613.000000</td>\n",
              "      <td>21613.000000</td>\n",
              "      <td>21613.000000</td>\n",
              "      <td>21613.000000</td>\n",
              "    </tr>\n",
              "    <tr>\n",
              "      <th>mean</th>\n",
              "      <td>5.400881e+05</td>\n",
              "      <td>3.372870</td>\n",
              "      <td>2.115736</td>\n",
              "      <td>2079.899736</td>\n",
              "      <td>1.510697e+04</td>\n",
              "      <td>1.494309</td>\n",
              "      <td>0.007542</td>\n",
              "      <td>0.234303</td>\n",
              "      <td>3.409430</td>\n",
              "      <td>7.656873</td>\n",
              "      <td>1788.390691</td>\n",
              "      <td>291.509045</td>\n",
              "      <td>1971.005136</td>\n",
              "      <td>84.402258</td>\n",
              "      <td>98077.939805</td>\n",
              "      <td>47.560053</td>\n",
              "      <td>-122.213896</td>\n",
              "      <td>1986.552492</td>\n",
              "      <td>12768.455652</td>\n",
              "    </tr>\n",
              "    <tr>\n",
              "      <th>std</th>\n",
              "      <td>3.671272e+05</td>\n",
              "      <td>0.926657</td>\n",
              "      <td>0.768996</td>\n",
              "      <td>918.440897</td>\n",
              "      <td>4.142051e+04</td>\n",
              "      <td>0.539989</td>\n",
              "      <td>0.086517</td>\n",
              "      <td>0.766318</td>\n",
              "      <td>0.650743</td>\n",
              "      <td>1.175459</td>\n",
              "      <td>828.090978</td>\n",
              "      <td>442.575043</td>\n",
              "      <td>29.373411</td>\n",
              "      <td>401.679240</td>\n",
              "      <td>53.505026</td>\n",
              "      <td>0.138564</td>\n",
              "      <td>0.140828</td>\n",
              "      <td>685.391304</td>\n",
              "      <td>27304.179631</td>\n",
              "    </tr>\n",
              "    <tr>\n",
              "      <th>min</th>\n",
              "      <td>7.500000e+04</td>\n",
              "      <td>1.000000</td>\n",
              "      <td>0.500000</td>\n",
              "      <td>290.000000</td>\n",
              "      <td>5.200000e+02</td>\n",
              "      <td>1.000000</td>\n",
              "      <td>0.000000</td>\n",
              "      <td>0.000000</td>\n",
              "      <td>1.000000</td>\n",
              "      <td>1.000000</td>\n",
              "      <td>290.000000</td>\n",
              "      <td>0.000000</td>\n",
              "      <td>1900.000000</td>\n",
              "      <td>0.000000</td>\n",
              "      <td>98001.000000</td>\n",
              "      <td>47.155900</td>\n",
              "      <td>-122.519000</td>\n",
              "      <td>399.000000</td>\n",
              "      <td>651.000000</td>\n",
              "    </tr>\n",
              "    <tr>\n",
              "      <th>25%</th>\n",
              "      <td>3.219500e+05</td>\n",
              "      <td>3.000000</td>\n",
              "      <td>1.750000</td>\n",
              "      <td>1427.000000</td>\n",
              "      <td>5.040000e+03</td>\n",
              "      <td>1.000000</td>\n",
              "      <td>0.000000</td>\n",
              "      <td>0.000000</td>\n",
              "      <td>3.000000</td>\n",
              "      <td>7.000000</td>\n",
              "      <td>1190.000000</td>\n",
              "      <td>0.000000</td>\n",
              "      <td>1951.000000</td>\n",
              "      <td>0.000000</td>\n",
              "      <td>98033.000000</td>\n",
              "      <td>47.471000</td>\n",
              "      <td>-122.328000</td>\n",
              "      <td>1490.000000</td>\n",
              "      <td>5100.000000</td>\n",
              "    </tr>\n",
              "    <tr>\n",
              "      <th>50%</th>\n",
              "      <td>4.500000e+05</td>\n",
              "      <td>3.000000</td>\n",
              "      <td>2.250000</td>\n",
              "      <td>1910.000000</td>\n",
              "      <td>7.618000e+03</td>\n",
              "      <td>1.500000</td>\n",
              "      <td>0.000000</td>\n",
              "      <td>0.000000</td>\n",
              "      <td>3.000000</td>\n",
              "      <td>7.000000</td>\n",
              "      <td>1560.000000</td>\n",
              "      <td>0.000000</td>\n",
              "      <td>1975.000000</td>\n",
              "      <td>0.000000</td>\n",
              "      <td>98065.000000</td>\n",
              "      <td>47.571800</td>\n",
              "      <td>-122.230000</td>\n",
              "      <td>1840.000000</td>\n",
              "      <td>7620.000000</td>\n",
              "    </tr>\n",
              "    <tr>\n",
              "      <th>75%</th>\n",
              "      <td>6.450000e+05</td>\n",
              "      <td>4.000000</td>\n",
              "      <td>2.500000</td>\n",
              "      <td>2550.000000</td>\n",
              "      <td>1.068800e+04</td>\n",
              "      <td>2.000000</td>\n",
              "      <td>0.000000</td>\n",
              "      <td>0.000000</td>\n",
              "      <td>4.000000</td>\n",
              "      <td>8.000000</td>\n",
              "      <td>2210.000000</td>\n",
              "      <td>560.000000</td>\n",
              "      <td>1997.000000</td>\n",
              "      <td>0.000000</td>\n",
              "      <td>98118.000000</td>\n",
              "      <td>47.678000</td>\n",
              "      <td>-122.125000</td>\n",
              "      <td>2360.000000</td>\n",
              "      <td>10083.000000</td>\n",
              "    </tr>\n",
              "    <tr>\n",
              "      <th>max</th>\n",
              "      <td>7.700000e+06</td>\n",
              "      <td>33.000000</td>\n",
              "      <td>8.000000</td>\n",
              "      <td>13540.000000</td>\n",
              "      <td>1.651359e+06</td>\n",
              "      <td>3.500000</td>\n",
              "      <td>1.000000</td>\n",
              "      <td>4.000000</td>\n",
              "      <td>5.000000</td>\n",
              "      <td>13.000000</td>\n",
              "      <td>9410.000000</td>\n",
              "      <td>4820.000000</td>\n",
              "      <td>2015.000000</td>\n",
              "      <td>2015.000000</td>\n",
              "      <td>98199.000000</td>\n",
              "      <td>47.777600</td>\n",
              "      <td>-121.315000</td>\n",
              "      <td>6210.000000</td>\n",
              "      <td>871200.000000</td>\n",
              "    </tr>\n",
              "  </tbody>\n",
              "</table>\n",
              "</div>"
            ],
            "text/plain": [
              "              price      bedrooms  ...  sqft_living15     sqft_lot15\n",
              "count  2.161300e+04  21600.000000  ...   21613.000000   21613.000000\n",
              "mean   5.400881e+05      3.372870  ...    1986.552492   12768.455652\n",
              "std    3.671272e+05      0.926657  ...     685.391304   27304.179631\n",
              "min    7.500000e+04      1.000000  ...     399.000000     651.000000\n",
              "25%    3.219500e+05      3.000000  ...    1490.000000    5100.000000\n",
              "50%    4.500000e+05      3.000000  ...    1840.000000    7620.000000\n",
              "75%    6.450000e+05      4.000000  ...    2360.000000   10083.000000\n",
              "max    7.700000e+06     33.000000  ...    6210.000000  871200.000000\n",
              "\n",
              "[8 rows x 19 columns]"
            ]
          },
          "metadata": {
            "tags": []
          },
          "execution_count": 6
        }
      ]
    },
    {
      "cell_type": "markdown",
      "metadata": {
        "id": "uAiKukPY_LJ5"
      },
      "source": [
        "We can see we have missing values for the columns <code> bedrooms</code>  and <code> bathrooms </code>"
      ]
    },
    {
      "cell_type": "code",
      "metadata": {
        "jupyter": {
          "outputs_hidden": false
        },
        "colab": {
          "base_uri": "https://localhost:8080/"
        },
        "id": "_--xiBq4_LJ5",
        "outputId": "269ce986-16a8-43db-f472-7d2e0ff6d8b9"
      },
      "source": [
        "print(\"number of NaN values for the column bedrooms :\", df['bedrooms'].isnull().sum())\n",
        "print(\"number of NaN values for the column bathrooms :\", df['bathrooms'].isnull().sum())\n"
      ],
      "execution_count": 7,
      "outputs": [
        {
          "output_type": "stream",
          "text": [
            "number of NaN values for the column bedrooms : 13\n",
            "number of NaN values for the column bathrooms : 10\n"
          ],
          "name": "stdout"
        }
      ]
    },
    {
      "cell_type": "markdown",
      "metadata": {
        "id": "bqAiCiEH_LJ5"
      },
      "source": [
        "\n",
        "We can replace the missing values of the column <code>'bedrooms'</code> with the mean of the column  <code>'bedrooms' </code> using the method <code>replace()</code>. Don't forget to set the <code>inplace</code> parameter to <code>True</code>"
      ]
    },
    {
      "cell_type": "code",
      "metadata": {
        "id": "HIBXmEvY_LJ6"
      },
      "source": [
        "mean=df['bedrooms'].mean()\n",
        "df['bedrooms'].replace(np.nan,mean, inplace=True)"
      ],
      "execution_count": 9,
      "outputs": []
    },
    {
      "cell_type": "markdown",
      "metadata": {
        "id": "LUIRyfS1_LJ6"
      },
      "source": [
        "\n",
        "We also replace the missing values of the column <code>'bathrooms'</code> with the mean of the column  <code>'bathrooms' </code> using the method <code>replace()</code>. Don't forget to set the <code> inplace </code>  parameter top <code> True </code>"
      ]
    },
    {
      "cell_type": "code",
      "metadata": {
        "id": "LWlQM01n_LJ6"
      },
      "source": [
        "mean=df['bathrooms'].mean()\n",
        "df['bathrooms'].replace(np.nan,mean, inplace=True)"
      ],
      "execution_count": 10,
      "outputs": []
    },
    {
      "cell_type": "code",
      "metadata": {
        "jupyter": {
          "outputs_hidden": false
        },
        "colab": {
          "base_uri": "https://localhost:8080/"
        },
        "id": "fkRoV4SE_LJ6",
        "outputId": "c367ac41-f4db-4ef7-cfd6-fec0358921f7"
      },
      "source": [
        "print(\"number of NaN values for the column bedrooms :\", df['bedrooms'].isnull().sum())\n",
        "print(\"number of NaN values for the column bathrooms :\", df['bathrooms'].isnull().sum())"
      ],
      "execution_count": 12,
      "outputs": [
        {
          "output_type": "stream",
          "text": [
            "number of NaN values for the column bedrooms : 0\n",
            "number of NaN values for the column bathrooms : 0\n"
          ],
          "name": "stdout"
        }
      ]
    },
    {
      "cell_type": "markdown",
      "metadata": {
        "id": "Lhn0GmLh_LJ6"
      },
      "source": [
        "# Module 3: Exploratory Data Analysis"
      ]
    },
    {
      "cell_type": "markdown",
      "metadata": {
        "id": "jyOc8TkT_LJ7"
      },
      "source": [
        "### Question 3\n",
        "Use the method <code>value_counts</code> to count the number of houses with unique floor values, use the method <code>.to_frame()</code> to convert it to a dataframe.\n"
      ]
    },
    {
      "cell_type": "code",
      "metadata": {
        "jupyter": {
          "outputs_hidden": false
        },
        "colab": {
          "base_uri": "https://localhost:8080/",
          "height": 225
        },
        "id": "KXuwUj_A_LJ7",
        "outputId": "49a55a6a-f81a-4cd9-cc2d-df0eb9d9042a"
      },
      "source": [
        "df['floors'].value_counts().to_frame()"
      ],
      "execution_count": 14,
      "outputs": [
        {
          "output_type": "execute_result",
          "data": {
            "text/html": [
              "<div>\n",
              "<style scoped>\n",
              "    .dataframe tbody tr th:only-of-type {\n",
              "        vertical-align: middle;\n",
              "    }\n",
              "\n",
              "    .dataframe tbody tr th {\n",
              "        vertical-align: top;\n",
              "    }\n",
              "\n",
              "    .dataframe thead th {\n",
              "        text-align: right;\n",
              "    }\n",
              "</style>\n",
              "<table border=\"1\" class=\"dataframe\">\n",
              "  <thead>\n",
              "    <tr style=\"text-align: right;\">\n",
              "      <th></th>\n",
              "      <th>floors</th>\n",
              "    </tr>\n",
              "  </thead>\n",
              "  <tbody>\n",
              "    <tr>\n",
              "      <th>1.0</th>\n",
              "      <td>10680</td>\n",
              "    </tr>\n",
              "    <tr>\n",
              "      <th>2.0</th>\n",
              "      <td>8241</td>\n",
              "    </tr>\n",
              "    <tr>\n",
              "      <th>1.5</th>\n",
              "      <td>1910</td>\n",
              "    </tr>\n",
              "    <tr>\n",
              "      <th>3.0</th>\n",
              "      <td>613</td>\n",
              "    </tr>\n",
              "    <tr>\n",
              "      <th>2.5</th>\n",
              "      <td>161</td>\n",
              "    </tr>\n",
              "    <tr>\n",
              "      <th>3.5</th>\n",
              "      <td>8</td>\n",
              "    </tr>\n",
              "  </tbody>\n",
              "</table>\n",
              "</div>"
            ],
            "text/plain": [
              "     floors\n",
              "1.0   10680\n",
              "2.0    8241\n",
              "1.5    1910\n",
              "3.0     613\n",
              "2.5     161\n",
              "3.5       8"
            ]
          },
          "metadata": {
            "tags": []
          },
          "execution_count": 14
        }
      ]
    },
    {
      "cell_type": "markdown",
      "metadata": {
        "id": "O1FmvAop_LJ7"
      },
      "source": [
        "### Question 4\n",
        "Use the function <code>boxplot</code> in the seaborn library  to  determine whether houses with a waterfront view or without a waterfront view have more price outliers."
      ]
    },
    {
      "cell_type": "code",
      "metadata": {
        "jupyter": {
          "outputs_hidden": false
        },
        "colab": {
          "base_uri": "https://localhost:8080/",
          "height": 307
        },
        "id": "uN9cdB0y_LJ7",
        "outputId": "5b851d47-671a-4c2c-ba46-61624d85a9aa"
      },
      "source": [
        "sns.boxplot(x='waterfront', y='price', data=df)"
      ],
      "execution_count": 15,
      "outputs": [
        {
          "output_type": "execute_result",
          "data": {
            "text/plain": [
              "<matplotlib.axes._subplots.AxesSubplot at 0x7f669436f410>"
            ]
          },
          "metadata": {
            "tags": []
          },
          "execution_count": 15
        },
        {
          "output_type": "display_data",
          "data": {
            "image/png": "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\n",
            "text/plain": [
              "<Figure size 432x288 with 1 Axes>"
            ]
          },
          "metadata": {
            "tags": [],
            "needs_background": "light"
          }
        }
      ]
    },
    {
      "cell_type": "markdown",
      "metadata": {
        "id": "XX3yFZ7D_LJ7"
      },
      "source": [
        "### Question 5\n",
        "Use the function <code>regplot</code>  in the seaborn library  to  determine if the feature <code>sqft_above</code> is negatively or positively correlated with price."
      ]
    },
    {
      "cell_type": "code",
      "metadata": {
        "jupyter": {
          "outputs_hidden": false
        },
        "colab": {
          "base_uri": "https://localhost:8080/",
          "height": 308
        },
        "id": "cqg1cixB_LJ7",
        "outputId": "cb0e5b40-0c80-4ddc-a7d6-cb4f48a652d9"
      },
      "source": [
        "sns.regplot(x='sqft_above', y='price', data=df)"
      ],
      "execution_count": 17,
      "outputs": [
        {
          "output_type": "execute_result",
          "data": {
            "text/plain": [
              "<matplotlib.axes._subplots.AxesSubplot at 0x7f668bd82350>"
            ]
          },
          "metadata": {
            "tags": []
          },
          "execution_count": 17
        },
        {
          "output_type": "display_data",
          "data": {
            "image/png": "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\n",
            "text/plain": [
              "<Figure size 432x288 with 1 Axes>"
            ]
          },
          "metadata": {
            "tags": [],
            "needs_background": "light"
          }
        }
      ]
    },
    {
      "cell_type": "markdown",
      "metadata": {
        "id": "BEroL2LL_LJ8"
      },
      "source": [
        "\n",
        "We can use the Pandas method <code>corr()</code>  to find the feature other than price that is most correlated with price."
      ]
    },
    {
      "cell_type": "code",
      "metadata": {
        "jupyter": {
          "outputs_hidden": false
        },
        "colab": {
          "base_uri": "https://localhost:8080/"
        },
        "id": "-1mEtBtl_LJ8",
        "outputId": "0feddd35-8cd5-4ce2-8843-622ff9913fa9"
      },
      "source": [
        "df.corr()['price'].sort_values()"
      ],
      "execution_count": 18,
      "outputs": [
        {
          "output_type": "execute_result",
          "data": {
            "text/plain": [
              "zipcode         -0.053203\n",
              "long             0.021626\n",
              "condition        0.036362\n",
              "yr_built         0.054012\n",
              "sqft_lot15       0.082447\n",
              "sqft_lot         0.089661\n",
              "yr_renovated     0.126434\n",
              "floors           0.256794\n",
              "waterfront       0.266369\n",
              "lat              0.307003\n",
              "bedrooms         0.308797\n",
              "sqft_basement    0.323816\n",
              "view             0.397293\n",
              "bathrooms        0.525738\n",
              "sqft_living15    0.585379\n",
              "sqft_above       0.605567\n",
              "grade            0.667434\n",
              "sqft_living      0.702035\n",
              "price            1.000000\n",
              "Name: price, dtype: float64"
            ]
          },
          "metadata": {
            "tags": []
          },
          "execution_count": 18
        }
      ]
    },
    {
      "cell_type": "markdown",
      "metadata": {
        "id": "iZXwJ470_LJ8"
      },
      "source": [
        "# Module 4: Model Development"
      ]
    },
    {
      "cell_type": "markdown",
      "metadata": {
        "id": "XUqJ-DY1_LJ8"
      },
      "source": [
        "\n",
        "We can Fit a linear regression model using the  longitude feature <code>'long'</code> and  caculate the R^2."
      ]
    },
    {
      "cell_type": "code",
      "metadata": {
        "jupyter": {
          "outputs_hidden": false
        },
        "colab": {
          "base_uri": "https://localhost:8080/"
        },
        "id": "md67mXKd_LJ8",
        "outputId": "26babcff-2636-47e4-a0a2-43df18fe371c"
      },
      "source": [
        "X = df[['long']]\n",
        "Y = df['price']\n",
        "lm = LinearRegression()\n",
        "lm.fit(X,Y)\n",
        "lm.score(X, Y)"
      ],
      "execution_count": 19,
      "outputs": [
        {
          "output_type": "execute_result",
          "data": {
            "text/plain": [
              "0.00046769430149007363"
            ]
          },
          "metadata": {
            "tags": []
          },
          "execution_count": 19
        }
      ]
    },
    {
      "cell_type": "markdown",
      "metadata": {
        "id": "r0zg8z66_LJ8"
      },
      "source": [
        "### Question  6\n",
        "Fit a linear regression model to predict the <code>'price'</code> using the feature <code>'sqft_living'</code> then calculate the R^2. Take a screenshot of your code and the value of the R^2."
      ]
    },
    {
      "cell_type": "code",
      "metadata": {
        "jupyter": {
          "outputs_hidden": false
        },
        "colab": {
          "base_uri": "https://localhost:8080/"
        },
        "id": "neZlekpW_LJ9",
        "outputId": "f6732a2e-8f1a-48d8-e8c4-c310c4ea3769"
      },
      "source": [
        "X1 = df[['sqft_living']]\n",
        "Y1 = df['price']\n",
        "lm = LinearRegression()\n",
        "lm.fit(X1,Y1)\n",
        "lm.score(X1, Y1)"
      ],
      "execution_count": 24,
      "outputs": [
        {
          "output_type": "execute_result",
          "data": {
            "text/plain": [
              "0.49285321790379316"
            ]
          },
          "metadata": {
            "tags": []
          },
          "execution_count": 24
        }
      ]
    },
    {
      "cell_type": "markdown",
      "metadata": {
        "id": "JjPDXYOE_LJ9"
      },
      "source": [
        "### Question 7\n",
        "Fit a linear regression model to predict the <code>'price'</code> using the list of features:"
      ]
    },
    {
      "cell_type": "code",
      "metadata": {
        "id": "IjDwJylp_LJ9"
      },
      "source": [
        "features =[\"floors\", \"waterfront\",\"lat\" ,\"bedrooms\" ,\"sqft_basement\" ,\"view\" ,\"bathrooms\",\"sqft_living15\",\"sqft_above\",\"grade\",\"sqft_living\"]   "
      ],
      "execution_count": 26,
      "outputs": []
    },
    {
      "cell_type": "markdown",
      "metadata": {
        "id": "Pnry8_mr_LJ9"
      },
      "source": [
        "Then calculate the R^2. Take a screenshot of your code."
      ]
    },
    {
      "cell_type": "code",
      "metadata": {
        "jupyter": {
          "outputs_hidden": false
        },
        "colab": {
          "base_uri": "https://localhost:8080/"
        },
        "id": "-m5gnHPZ_LJ9",
        "outputId": "6f35c289-bc2d-4e02-d4c6-8d000424a9eb"
      },
      "source": [
        "X2 = df[features]\n",
        "Y2 = df['price']\n",
        "lm = LinearRegression()\n",
        "lm.fit(X2,Y2)\n",
        "lm.score(X2, Y2)"
      ],
      "execution_count": 28,
      "outputs": [
        {
          "output_type": "execute_result",
          "data": {
            "text/plain": [
              "0.6576581908525534"
            ]
          },
          "metadata": {
            "tags": []
          },
          "execution_count": 28
        }
      ]
    },
    {
      "cell_type": "markdown",
      "metadata": {
        "id": "KrBz6-4E_LJ9"
      },
      "source": [
        "### This will help with Question 8\n",
        "\n",
        "Create a list of tuples, the first element in the tuple contains the name of the estimator:\n",
        "\n",
        "<code>'scale'</code>\n",
        "\n",
        "<code>'polynomial'</code>\n",
        "\n",
        "<code>'model'</code>\n",
        "\n",
        "The second element in the tuple  contains the model constructor \n",
        "\n",
        "<code>StandardScaler()</code>\n",
        "\n",
        "<code>PolynomialFeatures(include_bias=False)</code>\n",
        "\n",
        "<code>LinearRegression()</code>\n"
      ]
    },
    {
      "cell_type": "code",
      "metadata": {
        "id": "F89dg8bZ_LJ-"
      },
      "source": [
        "Input=[('scale',StandardScaler()),('polynomial', PolynomialFeatures(include_bias=False)),('model',LinearRegression())]"
      ],
      "execution_count": 29,
      "outputs": []
    },
    {
      "cell_type": "markdown",
      "metadata": {
        "id": "lQ7OpYQL_LJ-"
      },
      "source": [
        "### Question 8\n",
        "Use the list to create a pipeline object to predict the 'price', fit the object using the features in the list <code>features</code>, and calculate the R^2."
      ]
    },
    {
      "cell_type": "code",
      "metadata": {
        "jupyter": {
          "outputs_hidden": false
        },
        "colab": {
          "base_uri": "https://localhost:8080/"
        },
        "id": "A1rWSqvs_LJ-",
        "outputId": "d7933868-7803-4a85-99b5-09a09547a706"
      },
      "source": [
        "pipe=Pipeline(Input)\n",
        "pipe.fit(X,Y)\n",
        "pipe.score(X,Y)"
      ],
      "execution_count": 30,
      "outputs": [
        {
          "output_type": "execute_result",
          "data": {
            "text/plain": [
              "0.7513410482623407"
            ]
          },
          "metadata": {
            "tags": []
          },
          "execution_count": 30
        }
      ]
    },
    {
      "cell_type": "markdown",
      "metadata": {
        "id": "Zjer_ND7_LJ-"
      },
      "source": [
        "# Module 5: Model Evaluation and Refinement"
      ]
    },
    {
      "cell_type": "markdown",
      "metadata": {
        "id": "eOnZslQR_LJ_"
      },
      "source": [
        "Import the necessary modules:"
      ]
    },
    {
      "cell_type": "code",
      "metadata": {
        "jupyter": {
          "outputs_hidden": false
        },
        "colab": {
          "base_uri": "https://localhost:8080/"
        },
        "id": "pdH2TzFm_LJ_",
        "outputId": "dcd3f7dc-a812-4794-a960-5f8c0e9c5a77"
      },
      "source": [
        "from sklearn.model_selection import cross_val_score\n",
        "from sklearn.model_selection import train_test_split\n",
        "print(\"done\")"
      ],
      "execution_count": 31,
      "outputs": [
        {
          "output_type": "stream",
          "text": [
            "done\n"
          ],
          "name": "stdout"
        }
      ]
    },
    {
      "cell_type": "markdown",
      "metadata": {
        "id": "tGNKLluc_LJ_"
      },
      "source": [
        "We will split the data into training and testing sets:"
      ]
    },
    {
      "cell_type": "code",
      "metadata": {
        "jupyter": {
          "outputs_hidden": false
        },
        "colab": {
          "base_uri": "https://localhost:8080/"
        },
        "id": "jPTyt8Sz_LJ_",
        "outputId": "6bb2e676-0316-475f-a816-a5b5919c308d"
      },
      "source": [
        "features =[\"floors\", \"waterfront\",\"lat\" ,\"bedrooms\" ,\"sqft_basement\" ,\"view\" ,\"bathrooms\",\"sqft_living15\",\"sqft_above\",\"grade\",\"sqft_living\"]    \n",
        "X = df[features]\n",
        "Y = df['price']\n",
        "\n",
        "x_train, x_test, y_train, y_test = train_test_split(X, Y, test_size=0.15, random_state=1)\n",
        "\n",
        "\n",
        "print(\"number of test samples:\", x_test.shape[0])\n",
        "print(\"number of training samples:\",x_train.shape[0])"
      ],
      "execution_count": 32,
      "outputs": [
        {
          "output_type": "stream",
          "text": [
            "number of test samples: 3242\n",
            "number of training samples: 18371\n"
          ],
          "name": "stdout"
        }
      ]
    },
    {
      "cell_type": "markdown",
      "metadata": {
        "id": "7QfTdaL__LJ_"
      },
      "source": [
        "### Question 9\n",
        "Create and fit a Ridge regression object using the training data, set the regularization parameter to 0.1, and calculate the R^2 using the test data. \n"
      ]
    },
    {
      "cell_type": "code",
      "metadata": {
        "id": "r1B6tzio_LKA"
      },
      "source": [
        "from sklearn.linear_model import Ridge"
      ],
      "execution_count": 33,
      "outputs": []
    },
    {
      "cell_type": "code",
      "metadata": {
        "jupyter": {
          "outputs_hidden": false
        },
        "colab": {
          "base_uri": "https://localhost:8080/"
        },
        "id": "rXJD5nhD_LKA",
        "outputId": "49d1ae93-3d4b-4eee-d781-76e7395b2044"
      },
      "source": [
        "RigeModel = Ridge(alpha=0.1) \n",
        "RigeModel.fit(x_train, y_train)\n",
        "RigeModel.score(x_test, y_test)"
      ],
      "execution_count": 34,
      "outputs": [
        {
          "output_type": "execute_result",
          "data": {
            "text/plain": [
              "0.6478759163939117"
            ]
          },
          "metadata": {
            "tags": []
          },
          "execution_count": 34
        }
      ]
    },
    {
      "cell_type": "markdown",
      "metadata": {
        "id": "EWaWBpeD_LKA"
      },
      "source": [
        "### Question 10\n",
        "Perform a second order polynomial transform on both the training data and testing data. Create and fit a Ridge regression object using the training data, set the regularisation parameter to 0.1, and calculate the R^2 utilising the test data provided. Take a screenshot of your code and the R^2."
      ]
    },
    {
      "cell_type": "code",
      "metadata": {
        "jupyter": {
          "outputs_hidden": false
        },
        "colab": {
          "base_uri": "https://localhost:8080/"
        },
        "id": "AOBxQfHA_LKA",
        "outputId": "fd673891-870d-4019-d1d8-72535428d9d4"
      },
      "source": [
        "pr=PolynomialFeatures(degree=2)\n",
        "x_train_pr=pr.fit_transform(x_train[features])\n",
        "x_test_pr=pr.fit_transform(x_test[features])\n",
        "\n",
        "RigeModel = Ridge(alpha=0.1) \n",
        "RigeModel.fit(x_train_pr, y_train)\n",
        "RigeModel.score(x_test_pr, y_test)"
      ],
      "execution_count": 35,
      "outputs": [
        {
          "output_type": "execute_result",
          "data": {
            "text/plain": [
              "0.7002744277220405"
            ]
          },
          "metadata": {
            "tags": []
          },
          "execution_count": 35
        }
      ]
    }
  ]
}
